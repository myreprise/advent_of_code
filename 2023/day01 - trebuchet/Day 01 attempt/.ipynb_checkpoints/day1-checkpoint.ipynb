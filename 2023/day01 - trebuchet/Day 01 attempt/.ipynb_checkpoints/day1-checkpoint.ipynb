{
 "cells": [
  {
   "cell_type": "code",
   "execution_count": 44,
   "id": "31b1c2dd",
   "metadata": {},
   "outputs": [],
   "source": [
    "import re"
   ]
  },
  {
   "cell_type": "code",
   "execution_count": 45,
   "id": "98bc89aa",
   "metadata": {},
   "outputs": [],
   "source": [
    "data = []\n",
    "with open(\"input1.txt\", 'r') as f:\n",
    "    data.append(f.readlines())"
   ]
  },
  {
   "cell_type": "code",
   "execution_count": 49,
   "id": "9f374348",
   "metadata": {},
   "outputs": [
    {
     "data": {
      "text/plain": [
       "55017"
      ]
     },
     "execution_count": 49,
     "metadata": {},
     "output_type": "execute_result"
    }
   ],
   "source": [
    "total = 0\n",
    "for d in data[0]:\n",
    "    digits = [char for char in d if char.isdigit()]\n",
    "    if digits:\n",
    "        two_digit_number = int(digits[0] + digits[-1])\n",
    "        total += two_digit_number\n",
    "total"
   ]
  },
  {
   "cell_type": "code",
   "execution_count": 66,
   "id": "4fca4f2b",
   "metadata": {},
   "outputs": [],
   "source": [
    "mapping = {\n",
    "    'zero': 0,\n",
    "    'one': 1,\n",
    "    'two': 2,\n",
    "    'three': 3,\n",
    "    'four': 4,\n",
    "    'five': 5,\n",
    "    'six': 6,\n",
    "    'seven': 7,\n",
    "    'eight': 8,\n",
    "    'nine': 9\n",
    "}"
   ]
  },
  {
   "cell_type": "code",
   "execution_count": 68,
   "id": "c50fc961",
   "metadata": {},
   "outputs": [
    {
     "data": {
      "text/plain": [
       "['one', 'two', 'three', 'four', 'five', 'six', 'seven', 'eight', 'nine']"
      ]
     },
     "execution_count": 68,
     "metadata": {},
     "output_type": "execute_result"
    }
   ],
   "source": [
    "list(mapping.keys())"
   ]
  },
  {
   "cell_type": "code",
   "execution_count": 69,
   "id": "9f78ae2a",
   "metadata": {},
   "outputs": [],
   "source": [
    "data = []\n",
    "with open('input2.txt', 'r') as f:\n",
    "    data.append(f.readlines())"
   ]
  },
  {
   "cell_type": "code",
   "execution_count": null,
   "id": "f262ee1d",
   "metadata": {},
   "outputs": [],
   "source": [
    "def find_digit_in_line(line, digit_words):\n",
    "    words = line.split()\n",
    "    \n",
    "    for word in words:\n",
    "        for digit_word, digit in digit_words.items():\n",
    "            if digit_word in word:\n",
    "                return digit\n",
    "    return None"
   ]
  },
  {
   "cell_type": "code",
   "execution_count": 164,
   "id": "0df948d0",
   "metadata": {},
   "outputs": [],
   "source": []
  },
  {
   "cell_type": "code",
   "execution_count": 181,
   "id": "ceb73244",
   "metadata": {},
   "outputs": [],
   "source": [
    "def get_num_index(line):\n",
    "    data = []\n",
    "    for num in mapping.values():\n",
    "        if str(num) in line:\n",
    "            max_idx = 0\n",
    "            while max_idx < len(line):\n",
    "                try:\n",
    "                    found_index = line.index(str(num))\n",
    "                    data.append((num, found_index))\n",
    "                    max_idx = found_index + 1\n",
    "                except:\n",
    "                    break\n",
    "    data = sorted(data, key=lambda x: x[1], reverse = False)\n",
    "    return data"
   ]
  },
  {
   "cell_type": "code",
   "execution_count": 182,
   "id": "46dd4c23",
   "metadata": {},
   "outputs": [],
   "source": [
    "def get_substring_index(line):\n",
    "    data = []\n",
    "    for word in mapping.keys():\n",
    "        if word in line:\n",
    "            max_idx = 0\n",
    "            while max_idx < len(line):\n",
    "                try:\n",
    "                    found_index = line.index(word, max_idx)\n",
    "                    data.append((word, found_index))\n",
    "                    max_idx = found_index + 1\n",
    "                except:\n",
    "                    break\n",
    "    data = sorted(data, key=lambda x: x[1], reverse = False)\n",
    "    return data"
   ]
  },
  {
   "cell_type": "code",
   "execution_count": 184,
   "id": "4bb94bed",
   "metadata": {},
   "outputs": [
    {
     "ename": "KeyboardInterrupt",
     "evalue": "",
     "output_type": "error",
     "traceback": [
      "\u001b[0;31m---------------------------------------------------------------------------\u001b[0m",
      "\u001b[0;31mKeyboardInterrupt\u001b[0m                         Traceback (most recent call last)",
      "Cell \u001b[0;32mIn [184], line 4\u001b[0m\n\u001b[1;32m      2\u001b[0m \u001b[38;5;28;01mfor\u001b[39;00m line \u001b[38;5;129;01min\u001b[39;00m data[\u001b[38;5;241m0\u001b[39m][:\u001b[38;5;241m4\u001b[39m]:\n\u001b[1;32m      3\u001b[0m     data1 \u001b[38;5;241m=\u001b[39m get_substring_index(line)    \n\u001b[0;32m----> 4\u001b[0m     data2 \u001b[38;5;241m=\u001b[39m \u001b[43mget_num_index\u001b[49m\u001b[43m(\u001b[49m\u001b[43mline\u001b[49m\u001b[43m)\u001b[49m\n\u001b[1;32m      5\u001b[0m     dataf \u001b[38;5;241m=\u001b[39m \u001b[38;5;28msorted\u001b[39m(data1 \u001b[38;5;241m+\u001b[39m data2, key \u001b[38;5;241m=\u001b[39m \u001b[38;5;28;01mlambda\u001b[39;00m x: x[\u001b[38;5;241m1\u001b[39m])\n\u001b[1;32m      6\u001b[0m     \u001b[38;5;28mprint\u001b[39m(line, dataf)\n",
      "Cell \u001b[0;32mIn [181], line 6\u001b[0m, in \u001b[0;36mget_num_index\u001b[0;34m(line)\u001b[0m\n\u001b[1;32m      4\u001b[0m \u001b[38;5;28;01mif\u001b[39;00m \u001b[38;5;28mstr\u001b[39m(num) \u001b[38;5;129;01min\u001b[39;00m line:\n\u001b[1;32m      5\u001b[0m     max_idx \u001b[38;5;241m=\u001b[39m \u001b[38;5;241m0\u001b[39m\n\u001b[0;32m----> 6\u001b[0m     \u001b[38;5;28;01mwhile\u001b[39;00m max_idx \u001b[38;5;241m<\u001b[39m \u001b[38;5;28;43mlen\u001b[39;49m\u001b[43m(\u001b[49m\u001b[43mline\u001b[49m\u001b[43m)\u001b[49m:\n\u001b[1;32m      7\u001b[0m         \u001b[38;5;28;01mtry\u001b[39;00m:\n\u001b[1;32m      8\u001b[0m             found_index \u001b[38;5;241m=\u001b[39m line\u001b[38;5;241m.\u001b[39mindex(\u001b[38;5;28mstr\u001b[39m(num))\n",
      "\u001b[0;31mKeyboardInterrupt\u001b[0m: "
     ]
    }
   ],
   "source": [
    "total = 0\n",
    "for line in data[0][:4]:\n",
    "    data1 = get_substring_index(line)    \n",
    "    data2 = get_num_index(line)\n",
    "    dataf = sorted(data1 + data2, key = lambda x: x[1])\n",
    "    print(line, dataf)\n",
    "    if data1:\n",
    "        digits = int(mapping[data1[0][0]] + mapping[data1[-1][0]])\n",
    "        total += digits"
   ]
  },
  {
   "cell_type": "code",
   "execution_count": null,
   "id": "c7a6a05d",
   "metadata": {},
   "outputs": [],
   "source": [
    "'m9qvkqlgfhtwo3seven4seven'.index('two', 15)"
   ]
  },
  {
   "cell_type": "code",
   "execution_count": null,
   "id": "6ed52db6",
   "metadata": {},
   "outputs": [],
   "source": []
  },
  {
   "cell_type": "code",
   "execution_count": null,
   "id": "0660f08d",
   "metadata": {},
   "outputs": [],
   "source": []
  }
 ],
 "metadata": {
  "kernelspec": {
   "display_name": "Python 3 (ipykernel)",
   "language": "python",
   "name": "python3"
  },
  "language_info": {
   "codemirror_mode": {
    "name": "ipython",
    "version": 3
   },
   "file_extension": ".py",
   "mimetype": "text/x-python",
   "name": "python",
   "nbconvert_exporter": "python",
   "pygments_lexer": "ipython3",
   "version": "3.10.6"
  },
  "toc": {
   "base_numbering": 1,
   "nav_menu": {},
   "number_sections": true,
   "sideBar": true,
   "skip_h1_title": false,
   "title_cell": "Table of Contents",
   "title_sidebar": "Contents",
   "toc_cell": false,
   "toc_position": {},
   "toc_section_display": true,
   "toc_window_display": false
  }
 },
 "nbformat": 4,
 "nbformat_minor": 5
}
