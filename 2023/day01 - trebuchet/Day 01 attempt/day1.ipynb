{
 "cells": [
  {
   "cell_type": "code",
   "execution_count": 9,
   "id": "31b1c2dd",
   "metadata": {},
   "outputs": [],
   "source": [
    "import re"
   ]
  },
  {
   "cell_type": "code",
   "execution_count": 10,
   "id": "98bc89aa",
   "metadata": {},
   "outputs": [],
   "source": [
    "data = []\n",
    "with open(\"input1.txt\", 'r') as f:\n",
    "    data.append(f.readlines())"
   ]
  },
  {
   "cell_type": "code",
   "execution_count": 11,
   "id": "9f374348",
   "metadata": {},
   "outputs": [
    {
     "data": {
      "text/plain": [
       "55017"
      ]
     },
     "execution_count": 11,
     "metadata": {},
     "output_type": "execute_result"
    }
   ],
   "source": [
    "total = 0\n",
    "for d in data[0]:\n",
    "    digits = [char for char in d if char.isdigit()]\n",
    "    if digits:\n",
    "        two_digit_number = int(digits[0] + digits[-1])\n",
    "        total += two_digit_number\n",
    "total"
   ]
  },
  {
   "cell_type": "code",
   "execution_count": 12,
   "id": "4fca4f2b",
   "metadata": {},
   "outputs": [],
   "source": [
    "mapping = {\n",
    "    'zero': 0,\n",
    "    'one': 1,\n",
    "    'two': 2,\n",
    "    'three': 3,\n",
    "    'four': 4,\n",
    "    'five': 5,\n",
    "    'six': 6,\n",
    "    'seven': 7,\n",
    "    'eight': 8,\n",
    "    'nine': 9\n",
    "}"
   ]
  },
  {
   "cell_type": "code",
   "execution_count": 13,
   "id": "c50fc961",
   "metadata": {},
   "outputs": [
    {
     "data": {
      "text/plain": [
       "['zero',\n",
       " 'one',\n",
       " 'two',\n",
       " 'three',\n",
       " 'four',\n",
       " 'five',\n",
       " 'six',\n",
       " 'seven',\n",
       " 'eight',\n",
       " 'nine']"
      ]
     },
     "execution_count": 13,
     "metadata": {},
     "output_type": "execute_result"
    }
   ],
   "source": [
    "list(mapping.keys())"
   ]
  },
  {
   "cell_type": "code",
   "execution_count": 14,
   "id": "9f78ae2a",
   "metadata": {},
   "outputs": [],
   "source": [
    "data = []\n",
    "with open('input2.txt', 'r') as f:\n",
    "    data.append(f.readlines())"
   ]
  },
  {
   "cell_type": "code",
   "execution_count": 15,
   "id": "f262ee1d",
   "metadata": {},
   "outputs": [],
   "source": [
    "def find_digit_in_line(line, digit_words):\n",
    "    words = line.split()\n",
    "    \n",
    "    for word in words:\n",
    "        for digit_word, digit in digit_words.items():\n",
    "            if digit_word in word:\n",
    "                return digit\n",
    "    return None"
   ]
  },
  {
   "cell_type": "code",
   "execution_count": 27,
   "id": "e4b02dfc",
   "metadata": {},
   "outputs": [],
   "source": [
    "def get_num_index(line):\n",
    "    data = []\n",
    "    for num in mapping.values():\n",
    "        if str(num) in line:\n",
    "            max_idx = 0\n",
    "            while max_idx < len(line):\n",
    "                try:\n",
    "                    found_index = line.index(str(num), max_idx)\n",
    "                    data.append((num, found_index))\n",
    "                    max_idx = found_index + 1\n",
    "                except:\n",
    "                    break\n",
    "    data = sorted(data, key=lambda x: x[1], reverse = False)\n",
    "    return data"
   ]
  },
  {
   "cell_type": "code",
   "execution_count": 28,
   "id": "427585b5",
   "metadata": {},
   "outputs": [],
   "source": [
    "def get_substring_index(line):\n",
    "    data = []\n",
    "    for word in mapping.keys():\n",
    "        if word in line:\n",
    "            max_idx = 0\n",
    "            while max_idx < len(line):\n",
    "                try:\n",
    "                    found_index = line.index(word, max_idx)\n",
    "                    data.append((word, found_index))\n",
    "                    max_idx = found_index + 1\n",
    "                except:\n",
    "                    break\n",
    "    data = sorted(data, key=lambda x: x[1], reverse = False)\n",
    "    return data"
   ]
  },
  {
   "cell_type": "code",
   "execution_count": 52,
   "id": "4bb94bed",
   "metadata": {},
   "outputs": [],
   "source": [
    "total = 0\n",
    "for line in data[0]:\n",
    "    data1 = get_substring_index(line)    \n",
    "    data2 = get_num_index(line)\n",
    "    dataf = sorted(data1 + data2, key = lambda x: x[1])\n",
    "    if dataf:\n",
    "        digits = (dataf[0][0], dataf[-1][0])\n",
    "        datag = []\n",
    "        for dig in digits:\n",
    "            if type(dig) == int:\n",
    "                datag.append(dig)\n",
    "            else:\n",
    "                datag.append(mapping[dig])\n",
    "        total += int(str(datag[0]) + str(datag[1]))"
   ]
  },
  {
   "cell_type": "code",
   "execution_count": 53,
   "id": "c7a6a05d",
   "metadata": {},
   "outputs": [
    {
     "data": {
      "text/plain": [
       "53539"
      ]
     },
     "execution_count": 53,
     "metadata": {},
     "output_type": "execute_result"
    }
   ],
   "source": [
    "total"
   ]
  },
  {
   "cell_type": "code",
   "execution_count": null,
   "id": "c462e7e8",
   "metadata": {},
   "outputs": [],
   "source": []
  },
  {
   "cell_type": "code",
   "execution_count": null,
   "id": "6ed52db6",
   "metadata": {},
   "outputs": [],
   "source": []
  },
  {
   "cell_type": "code",
   "execution_count": null,
   "id": "cb4b05cb",
   "metadata": {},
   "outputs": [],
   "source": []
  }
 ],
 "metadata": {
  "kernelspec": {
   "display_name": "Python 3 (ipykernel)",
   "language": "python",
   "name": "python3"
  },
  "language_info": {
   "codemirror_mode": {
    "name": "ipython",
    "version": 3
   },
   "file_extension": ".py",
   "mimetype": "text/x-python",
   "name": "python",
   "nbconvert_exporter": "python",
   "pygments_lexer": "ipython3",
   "version": "3.10.6"
  },
  "toc": {
   "base_numbering": 1,
   "nav_menu": {},
   "number_sections": true,
   "sideBar": true,
   "skip_h1_title": false,
   "title_cell": "Table of Contents",
   "title_sidebar": "Contents",
   "toc_cell": false,
   "toc_position": {},
   "toc_section_display": true,
   "toc_window_display": false
  }
 },
 "nbformat": 4,
 "nbformat_minor": 5
}
