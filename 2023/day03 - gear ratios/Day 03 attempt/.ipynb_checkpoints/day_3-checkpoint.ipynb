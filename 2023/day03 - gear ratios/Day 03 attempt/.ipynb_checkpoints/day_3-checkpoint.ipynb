{
 "cells": [
  {
   "cell_type": "code",
   "execution_count": 48,
   "id": "52da56ae",
   "metadata": {},
   "outputs": [],
   "source": [
    "import re\n",
    "from collections import defaultdict"
   ]
  },
  {
   "cell_type": "code",
   "execution_count": 49,
   "id": "301ab18b",
   "metadata": {},
   "outputs": [],
   "source": [
    "with open(\"input.txt\", 'r') as file:\n",
    "    data = file.read().strip()"
   ]
  },
  {
   "cell_type": "code",
   "execution_count": 51,
   "id": "31acdde4",
   "metadata": {},
   "outputs": [],
   "source": [
    "lines = data.split(\"\\n\")"
   ]
  },
  {
   "cell_type": "code",
   "execution_count": 54,
   "id": "129163d7",
   "metadata": {},
   "outputs": [],
   "source": [
    "G = [[c for c in line] for line in lines]\n",
    "R = len(G)\n",
    "C = len(G[0])"
   ]
  },
  {
   "cell_type": "code",
   "execution_count": 56,
   "id": "fc63828f",
   "metadata": {},
   "outputs": [
    {
     "name": "stdout",
     "output_type": "stream",
     "text": [
      "140 140\n"
     ]
    }
   ],
   "source": [
    "print(R, C)"
   ]
  },
  {
   "cell_type": "code",
   "execution_count": 58,
   "id": "650d4902",
   "metadata": {},
   "outputs": [],
   "source": [
    "nums = defaultdict(list)"
   ]
  },
  {
   "cell_type": "code",
   "execution_count": 63,
   "id": "d92d6bd3",
   "metadata": {},
   "outputs": [
    {
     "name": "stdout",
     "output_type": "stream",
     "text": [
      "550064\n",
      "85010461\n"
     ]
    }
   ],
   "source": [
    "p1 = 0\n",
    "for r in range(len(G)):\n",
    "    gears = set()\n",
    "    n = 0\n",
    "    has_part = False\n",
    "    for c in range(len(G[r]) + 1):\n",
    "        if c < C and G[r][c].isdigit():\n",
    "            n = n * 10 + int(G[r][c])\n",
    "            for rr in [-1, 0, 1]:\n",
    "                for cc in [-1, 0, 1]:\n",
    "                    if 0 <= r + rr < R and 0 <= c + cc < C:\n",
    "                        ch = G[r +rr][c + cc]\n",
    "                        if not ch.isdigit() and ch  != '.':\n",
    "                            has_part = True\n",
    "                        if ch == '*':\n",
    "                            gears.add((r + rr, c + cc))\n",
    "        elif n > 0:\n",
    "            for gear in gears:\n",
    "                nums[gear].append(n)\n",
    "            if has_part:\n",
    "                p1 += n\n",
    "            n = 0\n",
    "            has_part = False\n",
    "            gears = set()\n",
    "print(p1)\n",
    "p2 = 0\n",
    "for k, v in nums.items():\n",
    "    if len(v) == 2:\n",
    "        p2 += v[0] * v[1]\n",
    "print(p2)"
   ]
  },
  {
   "cell_type": "code",
   "execution_count": null,
   "id": "ca051406",
   "metadata": {},
   "outputs": [],
   "source": []
  },
  {
   "cell_type": "code",
   "execution_count": null,
   "id": "cc9ef642",
   "metadata": {},
   "outputs": [],
   "source": []
  }
 ],
 "metadata": {
  "kernelspec": {
   "display_name": "Python 3 (ipykernel)",
   "language": "python",
   "name": "python3"
  },
  "language_info": {
   "codemirror_mode": {
    "name": "ipython",
    "version": 3
   },
   "file_extension": ".py",
   "mimetype": "text/x-python",
   "name": "python",
   "nbconvert_exporter": "python",
   "pygments_lexer": "ipython3",
   "version": "3.10.6"
  },
  "toc": {
   "base_numbering": 1,
   "nav_menu": {},
   "number_sections": true,
   "sideBar": true,
   "skip_h1_title": false,
   "title_cell": "Table of Contents",
   "title_sidebar": "Contents",
   "toc_cell": false,
   "toc_position": {},
   "toc_section_display": true,
   "toc_window_display": false
  }
 },
 "nbformat": 4,
 "nbformat_minor": 5
}
