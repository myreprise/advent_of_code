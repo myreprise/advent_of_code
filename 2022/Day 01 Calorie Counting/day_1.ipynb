{
 "cells": [
  {
   "cell_type": "code",
   "execution_count": 13,
   "id": "c4343755",
   "metadata": {},
   "outputs": [],
   "source": [
    "with open('input.txt', 'r') as file:\n",
    "    data = file.read().splitlines()"
   ]
  },
  {
   "cell_type": "code",
   "execution_count": 27,
   "id": "d370f099",
   "metadata": {},
   "outputs": [],
   "source": [
    "total = []\n",
    "for row in \";\".join(data).split(\";;\"):\n",
    "    d = [int(i) for i in row.split(\";\")]\n",
    "    total.append(sum(d))"
   ]
  },
  {
   "cell_type": "code",
   "execution_count": 35,
   "id": "1cd27a5c",
   "metadata": {},
   "outputs": [
    {
     "data": {
      "text/plain": [
       "70720"
      ]
     },
     "execution_count": 35,
     "metadata": {},
     "output_type": "execute_result"
    }
   ],
   "source": [
    "max(total)"
   ]
  },
  {
   "cell_type": "code",
   "execution_count": 33,
   "id": "d3b4a17c",
   "metadata": {},
   "outputs": [
    {
     "data": {
      "text/plain": [
       "207148"
      ]
     },
     "execution_count": 33,
     "metadata": {},
     "output_type": "execute_result"
    }
   ],
   "source": [
    "sum(sorted(total, reverse=True)[:3])"
   ]
  },
  {
   "cell_type": "code",
   "execution_count": null,
   "id": "54e60c44",
   "metadata": {},
   "outputs": [],
   "source": []
  }
 ],
 "metadata": {
  "kernelspec": {
   "display_name": "Python 3 (ipykernel)",
   "language": "python",
   "name": "python3"
  },
  "language_info": {
   "codemirror_mode": {
    "name": "ipython",
    "version": 3
   },
   "file_extension": ".py",
   "mimetype": "text/x-python",
   "name": "python",
   "nbconvert_exporter": "python",
   "pygments_lexer": "ipython3",
   "version": "3.10.6"
  },
  "toc": {
   "base_numbering": 1,
   "nav_menu": {},
   "number_sections": true,
   "sideBar": true,
   "skip_h1_title": false,
   "title_cell": "Table of Contents",
   "title_sidebar": "Contents",
   "toc_cell": false,
   "toc_position": {},
   "toc_section_display": true,
   "toc_window_display": false
  }
 },
 "nbformat": 4,
 "nbformat_minor": 5
}
