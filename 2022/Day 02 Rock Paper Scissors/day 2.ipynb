{
 "cells": [
  {
   "cell_type": "code",
   "execution_count": 3,
   "id": "a2b3a551",
   "metadata": {},
   "outputs": [],
   "source": [
    "with open('input.txt', 'r') as file:\n",
    "    data = file.read().splitlines()"
   ]
  },
  {
   "cell_type": "code",
   "execution_count": null,
   "id": "872f7ef7",
   "metadata": {},
   "outputs": [],
   "source": []
  },
  {
   "cell_type": "code",
   "execution_count": 7,
   "id": "479ccf2c",
   "metadata": {},
   "outputs": [
    {
     "data": {
      "text/plain": [
       "['A Z', 'A Y', 'B X', 'B X']"
      ]
     },
     "execution_count": 7,
     "metadata": {},
     "output_type": "execute_result"
    }
   ],
   "source": [
    "data[:4]"
   ]
  },
  {
   "cell_type": "code",
   "execution_count": 11,
   "id": "0d059200",
   "metadata": {},
   "outputs": [],
   "source": [
    "mapping = {\n",
    "    'A': {\n",
    "        'X': 'd',\n",
    "        'Y': 'w',\n",
    "        'Z': 'l',\n",
    "    },\n",
    "    'B': {\n",
    "        'X': 'l',\n",
    "        'Y': 'd',\n",
    "        'Z': 'w'\n",
    "    },\n",
    "    'C': {\n",
    "        'X': 'w',\n",
    "        'Y': 'l',\n",
    "        'Z': 'd'\n",
    "    }\n",
    "}"
   ]
  },
  {
   "cell_type": "code",
   "execution_count": 23,
   "id": "5ab9b14b",
   "metadata": {},
   "outputs": [],
   "source": [
    "outcome = {\n",
    "    'w': 6,\n",
    "    'd': 3,\n",
    "    'l': 0\n",
    "}\n",
    "choice = {\n",
    "    'X': 1,\n",
    "    'Y': 2,\n",
    "    'Z': 3\n",
    "}"
   ]
  },
  {
   "cell_type": "code",
   "execution_count": 25,
   "id": "cb634e4f",
   "metadata": {},
   "outputs": [],
   "source": [
    "outcome_scores = []\n",
    "choice_scores = []\n",
    "for d in data:\n",
    "    op, me = d.split()\n",
    "    outcome_scores.append(outcome[mapping[op][me]])\n",
    "    choice_scores.append(choice[me])"
   ]
  },
  {
   "cell_type": "code",
   "execution_count": 28,
   "id": "7fde28a1",
   "metadata": {},
   "outputs": [
    {
     "data": {
      "text/plain": [
       "11150"
      ]
     },
     "execution_count": 28,
     "metadata": {},
     "output_type": "execute_result"
    }
   ],
   "source": [
    "sum(choice_scores) + sum(outcome_scores)"
   ]
  },
  {
   "cell_type": "code",
   "execution_count": 30,
   "id": "83cc12d8",
   "metadata": {},
   "outputs": [],
   "source": [
    "strat = {\n",
    "    'X': 'l',\n",
    "    'Y': 'd',\n",
    "    'Z': 'w'\n",
    "}"
   ]
  },
  {
   "cell_type": "code",
   "execution_count": 51,
   "id": "5a9453c8",
   "metadata": {},
   "outputs": [],
   "source": [
    "choice_strat = {\n",
    "    'A': {\n",
    "        'w': 'Y',\n",
    "        'd': 'X',\n",
    "        'l': 'Z'\n",
    "    },\n",
    "    'B': {\n",
    "        'w': 'Z',\n",
    "        'd': 'Y',\n",
    "        'l': 'X'\n",
    "    },\n",
    "    'C': {\n",
    "        'w': 'X',\n",
    "        'd': 'Z',\n",
    "        'l': 'Y'\n",
    "    }\n",
    "}"
   ]
  },
  {
   "cell_type": "code",
   "execution_count": 59,
   "id": "110cd9b4",
   "metadata": {},
   "outputs": [],
   "source": [
    "outcome_scores = []\n",
    "choice_scores = []\n",
    "for d in data:\n",
    "    op, me = d.split()\n",
    "    #print(op, me, strat[me], outcome[strat[me]], choice[choice_strat[op][strat[me]]])\n",
    "    outcome_scores.append(outcome[strat[me]])\n",
    "    choice_scores.append(choice[choice_strat[op][strat[me]]])\n",
    "    "
   ]
  },
  {
   "cell_type": "code",
   "execution_count": 60,
   "id": "caa638cb",
   "metadata": {},
   "outputs": [
    {
     "data": {
      "text/plain": [
       "8295"
      ]
     },
     "execution_count": 60,
     "metadata": {},
     "output_type": "execute_result"
    }
   ],
   "source": [
    "sum(outcome_scores) + sum(choice_scores)"
   ]
  },
  {
   "cell_type": "code",
   "execution_count": null,
   "id": "9b24f65a",
   "metadata": {},
   "outputs": [],
   "source": []
  },
  {
   "cell_type": "code",
   "execution_count": null,
   "id": "d7c4bad3",
   "metadata": {},
   "outputs": [],
   "source": []
  }
 ],
 "metadata": {
  "kernelspec": {
   "display_name": "Python 3 (ipykernel)",
   "language": "python",
   "name": "python3"
  },
  "language_info": {
   "codemirror_mode": {
    "name": "ipython",
    "version": 3
   },
   "file_extension": ".py",
   "mimetype": "text/x-python",
   "name": "python",
   "nbconvert_exporter": "python",
   "pygments_lexer": "ipython3",
   "version": "3.10.6"
  },
  "toc": {
   "base_numbering": 1,
   "nav_menu": {},
   "number_sections": true,
   "sideBar": true,
   "skip_h1_title": false,
   "title_cell": "Table of Contents",
   "title_sidebar": "Contents",
   "toc_cell": false,
   "toc_position": {},
   "toc_section_display": true,
   "toc_window_display": false
  }
 },
 "nbformat": 4,
 "nbformat_minor": 5
}
